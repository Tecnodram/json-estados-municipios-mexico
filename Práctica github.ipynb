{
 "cells": [
  {
   "cell_type": "code",
   "execution_count": 4,
   "id": "5ddb7144-27dd-446d-98a7-41ba2e7a1fc0",
   "metadata": {},
   "outputs": [
    {
     "name": "stdout",
     "output_type": "stream",
     "text": [
      "Columnas renombradas en df_excel: ['CVEGEO', 'CVE_ENT', 'Estado', 'NOM_ABR', 'Clave_Municipio', 'Municipio', 'CVE_CAB', 'NOM_CAB', 'POB_TOTAL', 'POB_MASCULINA', 'POB_FEMENINA', 'TOTAL DE VIVIENDAS HABITADAS']\n",
      "Archivo generado: municipios_claves_formato_correcto.xlsx\n"
     ]
    }
   ],
   "source": [
    "import json\n",
    "import pandas as pd\n",
    "\n",
    "# --- 1. Leer el JSON ---\n",
    "with open(\"estados-municipios.json\", \"r\", encoding=\"utf-8\") as f:\n",
    "    data = json.load(f)\n",
    "\n",
    "# Construir lista de registros con Estado y Municipio\n",
    "registros = []\n",
    "for estado, municipios in data.items():\n",
    "    for municipio in municipios:\n",
    "        if isinstance(municipio, dict):\n",
    "            municipio_nombre = municipio.get(\"nombre\", \"\").strip()\n",
    "        else:\n",
    "            municipio_nombre = str(municipio).strip()\n",
    "        registros.append({\"Estado\": estado.strip(), \"Municipio\": municipio_nombre})\n",
    "\n",
    "df_json = pd.DataFrame(registros)\n",
    "\n",
    "# --- 2. Leer el Excel ---\n",
    "excel_path = r\"C:\\Users\\tecno\\Documents\\FAIS 2023\\CLAVES INEGI\\Entidades y Municipios generar claves.xlsx\"\n",
    "df_excel = pd.read_excel(excel_path, dtype={\"CVEGEO\": str, \"CVE_MUN\": str})\n",
    "\n",
    "# --- 3. Renombrar las columnas de df_excel (ajustamos si es necesario) ---\n",
    "df_excel.rename(columns={\n",
    "    \"NOM_ENT\": \"Estado\",  # Nombramos correctamente la columna \"NOM_ENT\" como \"Estado\"\n",
    "    \"NOM_MUN\": \"Municipio\",\n",
    "    \"CVE_MUN\": \"Clave_Municipio\"\n",
    "}, inplace=True)\n",
    "\n",
    "# --- 4. Verificar si las columnas se renombraron correctamente ---\n",
    "print(\"Columnas renombradas en df_excel:\", df_excel.columns.tolist())\n",
    "\n",
    "# --- 6. Formatear las columnas de clave ---\n",
    "df_excel[\"Estado\"] = df_excel[\"Estado\"].str.zfill(2)  # Rellenar con ceros en el caso de que la entidad sea de un solo dígito\n",
    "df_excel[\"Clave_Municipio\"] = df_excel[\"Estado\"] + df_excel[\"Clave_Municipio\"].str.zfill(3)  # Crear la clave del municipio\n",
    "\n",
    "# --- 7. Unir los DataFrames ---\n",
    "df_merged = pd.merge(df_json, df_excel, on=[\"Estado\", \"Municipio\"], how=\"left\")\n",
    "\n",
    "# --- 8. Seleccionar las columnas finales ---\n",
    "df_final = df_merged[[\"Estado\", \"Municipio\", \"Clave_Municipio\"]]\n",
    "\n",
    "# --- 9. Exportar a Excel ---\n",
    "output_path = \"municipios_claves_formato_correcto.xlsx\"\n",
    "df_final.to_excel(output_path, index=False)\n",
    "\n",
    "print(f\"Archivo generado: {output_path}\")\n",
    "\n"
   ]
  },
  {
   "cell_type": "markdown",
   "id": "98dd727a-fe90-4666-a4b0-625351f24a39",
   "metadata": {},
   "source": [
    "Verificar donde esta guardado el archivo que se genero con las claves de los municipios "
   ]
  },
  {
   "cell_type": "code",
   "execution_count": 6,
   "id": "3ffa3d0b-0ead-4ddf-a900-ef4bf64d97d5",
   "metadata": {},
   "outputs": [
    {
     "name": "stdout",
     "output_type": "stream",
     "text": [
      "Archivo guardado en: C:\\Users\\tecno\\json-estados-municipios-mexico\n"
     ]
    }
   ],
   "source": [
    "import os\n",
    "print(\"Archivo guardado en:\", os.getcwd())\n"
   ]
  },
  {
   "cell_type": "markdown",
   "id": "32914ba3-7c86-4706-a764-0e485dc6900a",
   "metadata": {},
   "source": [
    "Conclusion del ejercicio "
   ]
  },
  {
   "cell_type": "markdown",
   "id": "3f8d1264-7d09-4a5e-8c40-d85830bbc9fe",
   "metadata": {},
   "source": [
    "El ejerciico fue bueno porque me di cuenta de como clonar un repositorio a mi computadora, comohacer un fork y de ahi jalar informaicon de mi repositorio, lo que permite despues hacer una convergencia de infromacion. Sin mebargo el resultado no es el que espero al 100% voy a proceder a hacer un merge de otra manera. "
   ]
  },
  {
   "cell_type": "markdown",
   "id": "9a840e1e-71f8-4a6c-913c-fbe307e41b3a",
   "metadata": {},
   "source": [
    "TRabajar el archivo y luego actualiar el archivo en el github"
   ]
  },
  {
   "cell_type": "code",
   "execution_count": 11,
   "id": "b5b6f04d-c1d0-4b63-b2a4-c1fbb43ffab7",
   "metadata": {},
   "outputs": [
    {
     "name": "stdout",
     "output_type": "stream",
     "text": [
      "Nombres de las columnas: ['CVEGEO', 'CVE_ENT', 'NOM_ENT', 'NOM_ABR', 'CVE_MUN', 'NOM_MUN', 'CVE_CAB', 'NOM_CAB', 'POB_TOTAL', 'POB_MASCULINA', 'POB_FEMENINA', 'TOTAL DE VIVIENDAS HABITADAS']\n"
     ]
    }
   ],
   "source": [
    "import pandas as pd\n",
    "\n",
    "# Cargar el archivo de Excel\n",
    "archivo = r\"C:\\Users\\tecno\\Documents\\FAIS 2023\\CLAVES INEGI\\Entidades y Municipios generar claves.xlsx\"\n",
    "\n",
    "# Leer el archivo de Excel\n",
    "df_excel = pd.read_excel(archivo)\n",
    "\n",
    "# Imprimir los nombres de las columnas\n",
    "print(\"Nombres de las columnas:\", df_excel.columns.tolist())\n"
   ]
  },
  {
   "cell_type": "markdown",
   "id": "d0dd018d-3975-4622-94df-39f7fef31c1e",
   "metadata": {},
   "source": [
    "CVE_ ENT tiene la clave del estado, CVE_MUN tiene la clave del municpio y NOM_MUN tiene el nombre del municipio. NEcesito unificar CVE_ENT y CVE_MUN en una columna y denominarla clave municipio y en otra columna tener su nombre del municipio.  "
   ]
  },
  {
   "cell_type": "code",
   "execution_count": 13,
   "id": "a5072811-54d5-4a2d-a9eb-81c42b6da080",
   "metadata": {},
   "outputs": [
    {
     "name": "stdout",
     "output_type": "stream",
     "text": [
      "  Clave_Municipio       Municipio\n",
      "0           01001  Aguascalientes\n",
      "1           01002        Asientos\n",
      "2           01003        Calvillo\n",
      "3           01004           Cosío\n",
      "4           01005     Jesús María\n"
     ]
    }
   ],
   "source": [
    "# Crear la columna Clave_Municipio uniendo CVE_ENT y CVE_MUN\n",
    "df_excel['Clave_Municipio'] = df_excel['CVE_ENT'].astype(str).str.zfill(2) + df_excel['CVE_MUN'].astype(str).str.zfill(3)\n",
    "\n",
    "# Crear la columna Municipio con los nombres de los municipios\n",
    "df_excel['Municipio'] = df_excel['NOM_MUN']\n",
    "\n",
    "# Verificar las primeras filas para asegurarse de que las columnas fueron creadas correctamente\n",
    "print(df_excel[['Clave_Municipio', 'Municipio']].head())\n"
   ]
  },
  {
   "cell_type": "markdown",
   "id": "139e4ae7-33b3-44c9-b30b-5ca201c03259",
   "metadata": {},
   "source": [
    "El resultado fue excelente ahora vamos a guardar el archivo"
   ]
  },
  {
   "cell_type": "code",
   "execution_count": 16,
   "id": "86e7551c-1404-4b98-afef-35cb126e43df",
   "metadata": {},
   "outputs": [
    {
     "name": "stdout",
     "output_type": "stream",
     "text": [
      "El archivo ha sido guardado como C:\\Users\\tecno\\Documents\\FAIS 2023\\CLAVES INEGI\\claves_INEGI_municipios.xlsx\n"
     ]
    }
   ],
   "source": [
    "# Guardar el DataFrame con las nuevas columnas en un nuevo archivo Excel\n",
    "archivo_salida = r'C:\\Users\\tecno\\Documents\\FAIS 2023\\CLAVES INEGI\\claves_INEGI_municipios.xlsx'\n",
    "df_excel.to_excel(archivo_salida, index=False)\n",
    "\n",
    "print(f\"El archivo ha sido guardado como {archivo_salida}\")\n"
   ]
  },
  {
   "cell_type": "code",
   "execution_count": null,
   "id": "929d2c1b-a25f-4d6f-a91a-bf57bf4b55e2",
   "metadata": {},
   "outputs": [],
   "source": []
  }
 ],
 "metadata": {
  "kernelspec": {
   "display_name": "Python [conda env:base] *",
   "language": "python",
   "name": "conda-base-py"
  },
  "language_info": {
   "codemirror_mode": {
    "name": "ipython",
    "version": 3
   },
   "file_extension": ".py",
   "mimetype": "text/x-python",
   "name": "python",
   "nbconvert_exporter": "python",
   "pygments_lexer": "ipython3",
   "version": "3.12.7"
  }
 },
 "nbformat": 4,
 "nbformat_minor": 5
}
