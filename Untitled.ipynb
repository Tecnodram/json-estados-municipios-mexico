{
 "cells": [
  {
   "cell_type": "markdown",
   "id": "daee42d2-40f4-45d3-82e6-14f6fb1c5287",
   "metadata": {},
   "source": [
    "1. Inspeccionar la estructura del JSON"
   ]
  },
  {
   "cell_type": "code",
   "execution_count": 8,
   "id": "d3a0f302-59f4-4f6d-8e43-aa3628e87b62",
   "metadata": {
    "scrolled": true
   },
   "outputs": [
    {
     "name": "stdout",
     "output_type": "stream",
     "text": [
      "Claves principales: dict_keys(['Aguascalientes', 'Baja California', 'Baja California Sur', 'Campeche', 'Coahuila', 'Colima', 'Chiapas', 'Chihuahua', 'Ciudad de Mexico', 'Durango', 'Guanajuato', 'Guerrero', 'Hidalgo', 'Jalisco', 'Estado de Mexico', 'Michoacan', 'Morelos', 'Nayarit', 'Nuevo Leon', 'Oaxaca', 'Puebla', 'Queretaro', 'Quintana Roo', 'San Luis Potosi', 'Sinaloa', 'Sonora', 'Tabasco', 'Tamaulipas', 'Tlaxcala', 'Veracruz', 'Yucatan', 'Zacatecas'])\n"
     ]
    }
   ],
   "source": [
    "import json\n",
    "\n",
    "with open(\"estados-municipios.json\", \"r\", encoding=\"utf-8\") as f:\n",
    "    data = json.load(f)\n",
    "\n",
    "# Si data es un diccionario, revisa sus claves:\n",
    "if isinstance(data, dict):\n",
    "    print(\"Claves principales:\", data.keys())\n",
    "else:\n",
    "    print(\"Tipo de dato:\", type(data))\n",
    "\n"
   ]
  },
  {
   "cell_type": "markdown",
   "id": "b7b21a19-c470-40d3-8ae5-967fa4c1b710",
   "metadata": {},
   "source": [
    "2. Inspeccionar la estructura de los municipios"
   ]
  },
  {
   "cell_type": "code",
   "execution_count": 15,
   "id": "e47d7b61-ae7c-40a7-b9e4-633818227ad0",
   "metadata": {},
   "outputs": [
    {
     "name": "stdout",
     "output_type": "stream",
     "text": [
      "Estructura del estado Michoacan:\n",
      "[\n",
      "    \"Acuitzio\",\n",
      "    \"Aguililla\",\n",
      "    \"Alvaro Obregon\",\n",
      "    \"Angamacutiro\",\n",
      "    \"Angangueo\"\n",
      "]\n"
     ]
    }
   ],
   "source": [
    "# Inspeccionar la estructura de los municipios en Michoacán\n",
    "estado_prueba = \"Michoacan\"\n",
    "print(f\"Estructura del estado {estado_prueba}:\")\n",
    "print(json.dumps(data[estado_prueba][:5], indent=4, ensure_ascii=False))  # Imprime los primeros 5 municipios"
   ]
  },
  {
   "cell_type": "markdown",
   "id": "67fda943-aa44-46de-8754-48ab550a393d",
   "metadata": {},
   "source": [
    "Hacer una base de datos por clave de municipios ajustada haciendo uso del repositorio que clone en GITHUB"
   ]
  },
  {
   "cell_type": "code",
   "execution_count": 26,
   "id": "379cdad1-a4f6-4a7a-9e37-00f28398ae8a",
   "metadata": {},
   "outputs": [
    {
     "name": "stdout",
     "output_type": "stream",
     "text": [
      "Columnas en df_excel: ['CVEGEO', 'CVE_ENT', 'NOM_ENT', 'NOM_ABR', 'CVE_MUN', 'NOM_MUN', 'CVE_CAB', 'NOM_CAB', 'POB_TOTAL', 'POB_MASCULINA', 'POB_FEMENINA', 'TOTAL DE VIVIENDAS HABITADAS']\n",
      "Columnas renombradas en df_excel: ['CVEGEO', 'CVE_ENT', 'NOM_ENT', 'NOM_ABR', 'Clave_Municipio', 'Municipio', 'CVE_CAB', 'NOM_CAB', 'POB_TOTAL', 'POB_MASCULINA', 'POB_FEMENINA', 'TOTAL DE VIVIENDAS HABITADAS']\n"
     ]
    },
    {
     "ename": "KeyError",
     "evalue": "'Estado'",
     "output_type": "error",
     "traceback": [
      "\u001b[1;31m---------------------------------------------------------------------------\u001b[0m",
      "\u001b[1;31mKeyError\u001b[0m                                  Traceback (most recent call last)",
      "File \u001b[1;32m~\\anaconda3\\Lib\\site-packages\\pandas\\core\\indexes\\base.py:3805\u001b[0m, in \u001b[0;36mIndex.get_loc\u001b[1;34m(self, key)\u001b[0m\n\u001b[0;32m   3804\u001b[0m \u001b[38;5;28;01mtry\u001b[39;00m:\n\u001b[1;32m-> 3805\u001b[0m     \u001b[38;5;28;01mreturn\u001b[39;00m \u001b[38;5;28mself\u001b[39m\u001b[38;5;241m.\u001b[39m_engine\u001b[38;5;241m.\u001b[39mget_loc(casted_key)\n\u001b[0;32m   3806\u001b[0m \u001b[38;5;28;01mexcept\u001b[39;00m \u001b[38;5;167;01mKeyError\u001b[39;00m \u001b[38;5;28;01mas\u001b[39;00m err:\n",
      "File \u001b[1;32mindex.pyx:167\u001b[0m, in \u001b[0;36mpandas._libs.index.IndexEngine.get_loc\u001b[1;34m()\u001b[0m\n",
      "File \u001b[1;32mindex.pyx:196\u001b[0m, in \u001b[0;36mpandas._libs.index.IndexEngine.get_loc\u001b[1;34m()\u001b[0m\n",
      "File \u001b[1;32mpandas\\\\_libs\\\\hashtable_class_helper.pxi:7081\u001b[0m, in \u001b[0;36mpandas._libs.hashtable.PyObjectHashTable.get_item\u001b[1;34m()\u001b[0m\n",
      "File \u001b[1;32mpandas\\\\_libs\\\\hashtable_class_helper.pxi:7089\u001b[0m, in \u001b[0;36mpandas._libs.hashtable.PyObjectHashTable.get_item\u001b[1;34m()\u001b[0m\n",
      "\u001b[1;31mKeyError\u001b[0m: 'Estado'",
      "\nThe above exception was the direct cause of the following exception:\n",
      "\u001b[1;31mKeyError\u001b[0m                                  Traceback (most recent call last)",
      "Cell \u001b[1;32mIn[26], line 34\u001b[0m\n\u001b[0;32m     31\u001b[0m \u001b[38;5;28mprint\u001b[39m(\u001b[38;5;124m\"\u001b[39m\u001b[38;5;124mColumnas renombradas en df_excel:\u001b[39m\u001b[38;5;124m\"\u001b[39m, df_excel\u001b[38;5;241m.\u001b[39mcolumns\u001b[38;5;241m.\u001b[39mtolist())\n\u001b[0;32m     33\u001b[0m \u001b[38;5;66;03m# --- 6. Formatear las columnas de clave ---\u001b[39;00m\n\u001b[1;32m---> 34\u001b[0m df_excel[\u001b[38;5;124m\"\u001b[39m\u001b[38;5;124mEstado\u001b[39m\u001b[38;5;124m\"\u001b[39m] \u001b[38;5;241m=\u001b[39m df_excel[\u001b[38;5;124m\"\u001b[39m\u001b[38;5;124mEstado\u001b[39m\u001b[38;5;124m\"\u001b[39m]\u001b[38;5;241m.\u001b[39mstr\u001b[38;5;241m.\u001b[39mzfill(\u001b[38;5;241m2\u001b[39m)  \u001b[38;5;66;03m# Rellenar con ceros en el caso de que la entidad sea de un solo dígito\u001b[39;00m\n\u001b[0;32m     35\u001b[0m df_excel[\u001b[38;5;124m\"\u001b[39m\u001b[38;5;124mClave_Municipio\u001b[39m\u001b[38;5;124m\"\u001b[39m] \u001b[38;5;241m=\u001b[39m df_excel[\u001b[38;5;124m\"\u001b[39m\u001b[38;5;124mEstado\u001b[39m\u001b[38;5;124m\"\u001b[39m] \u001b[38;5;241m+\u001b[39m df_excel[\u001b[38;5;124m\"\u001b[39m\u001b[38;5;124mClave_Municipio\u001b[39m\u001b[38;5;124m\"\u001b[39m]\u001b[38;5;241m.\u001b[39mstr\u001b[38;5;241m.\u001b[39mzfill(\u001b[38;5;241m3\u001b[39m)  \u001b[38;5;66;03m# Crear la clave del municipio\u001b[39;00m\n\u001b[0;32m     37\u001b[0m \u001b[38;5;66;03m# --- 7. Unir los DataFrames ---\u001b[39;00m\n",
      "File \u001b[1;32m~\\anaconda3\\Lib\\site-packages\\pandas\\core\\frame.py:4102\u001b[0m, in \u001b[0;36mDataFrame.__getitem__\u001b[1;34m(self, key)\u001b[0m\n\u001b[0;32m   4100\u001b[0m \u001b[38;5;28;01mif\u001b[39;00m \u001b[38;5;28mself\u001b[39m\u001b[38;5;241m.\u001b[39mcolumns\u001b[38;5;241m.\u001b[39mnlevels \u001b[38;5;241m>\u001b[39m \u001b[38;5;241m1\u001b[39m:\n\u001b[0;32m   4101\u001b[0m     \u001b[38;5;28;01mreturn\u001b[39;00m \u001b[38;5;28mself\u001b[39m\u001b[38;5;241m.\u001b[39m_getitem_multilevel(key)\n\u001b[1;32m-> 4102\u001b[0m indexer \u001b[38;5;241m=\u001b[39m \u001b[38;5;28mself\u001b[39m\u001b[38;5;241m.\u001b[39mcolumns\u001b[38;5;241m.\u001b[39mget_loc(key)\n\u001b[0;32m   4103\u001b[0m \u001b[38;5;28;01mif\u001b[39;00m is_integer(indexer):\n\u001b[0;32m   4104\u001b[0m     indexer \u001b[38;5;241m=\u001b[39m [indexer]\n",
      "File \u001b[1;32m~\\anaconda3\\Lib\\site-packages\\pandas\\core\\indexes\\base.py:3812\u001b[0m, in \u001b[0;36mIndex.get_loc\u001b[1;34m(self, key)\u001b[0m\n\u001b[0;32m   3807\u001b[0m     \u001b[38;5;28;01mif\u001b[39;00m \u001b[38;5;28misinstance\u001b[39m(casted_key, \u001b[38;5;28mslice\u001b[39m) \u001b[38;5;129;01mor\u001b[39;00m (\n\u001b[0;32m   3808\u001b[0m         \u001b[38;5;28misinstance\u001b[39m(casted_key, abc\u001b[38;5;241m.\u001b[39mIterable)\n\u001b[0;32m   3809\u001b[0m         \u001b[38;5;129;01mand\u001b[39;00m \u001b[38;5;28many\u001b[39m(\u001b[38;5;28misinstance\u001b[39m(x, \u001b[38;5;28mslice\u001b[39m) \u001b[38;5;28;01mfor\u001b[39;00m x \u001b[38;5;129;01min\u001b[39;00m casted_key)\n\u001b[0;32m   3810\u001b[0m     ):\n\u001b[0;32m   3811\u001b[0m         \u001b[38;5;28;01mraise\u001b[39;00m InvalidIndexError(key)\n\u001b[1;32m-> 3812\u001b[0m     \u001b[38;5;28;01mraise\u001b[39;00m \u001b[38;5;167;01mKeyError\u001b[39;00m(key) \u001b[38;5;28;01mfrom\u001b[39;00m \u001b[38;5;21;01merr\u001b[39;00m\n\u001b[0;32m   3813\u001b[0m \u001b[38;5;28;01mexcept\u001b[39;00m \u001b[38;5;167;01mTypeError\u001b[39;00m:\n\u001b[0;32m   3814\u001b[0m     \u001b[38;5;66;03m# If we have a listlike key, _check_indexing_error will raise\u001b[39;00m\n\u001b[0;32m   3815\u001b[0m     \u001b[38;5;66;03m#  InvalidIndexError. Otherwise we fall through and re-raise\u001b[39;00m\n\u001b[0;32m   3816\u001b[0m     \u001b[38;5;66;03m#  the TypeError.\u001b[39;00m\n\u001b[0;32m   3817\u001b[0m     \u001b[38;5;28mself\u001b[39m\u001b[38;5;241m.\u001b[39m_check_indexing_error(key)\n",
      "\u001b[1;31mKeyError\u001b[0m: 'Estado'"
     ]
    }
   ],
   "source": [
    "import json\n",
    "import pandas as pd\n",
    "\n",
    "# --- 1. Leer el JSON ---\n",
    "with open(\"estados-municipios.json\", \"r\", encoding=\"utf-8\") as f:\n",
    "    data = json.load(f)\n",
    "\n",
    "# Construir lista de registros con Estado y Municipio\n",
    "registros = []\n",
    "for estado, municipios in data.items():\n",
    "    for municipio in municipios:\n",
    "        if isinstance(municipio, dict):\n",
    "            municipio_nombre = municipio.get(\"nombre\", \"\").strip()\n",
    "        else:\n",
    "            municipio_nombre = str(municipio).strip()\n",
    "        registros.append({\"Estado\": estado.strip(), \"Municipio\": municipio_nombre})\n",
    "\n",
    "df_json = pd.DataFrame(registros)\n",
    "\n",
    "# --- 2. Leer el Excel ---\n",
    "excel_path = r\"C:\\Users\\tecno\\Documents\\FAIS 2023\\CLAVES INEGI\\Entidades y Municipios generar claves.xlsx\"\n",
    "df_excel = pd.read_excel(excel_path, dtype={\"CVEGEO\": str, \"CVE_MUN\": str})\n",
    "\n",
    "# --- 3. Verificar nombres de columnas ---\n",
    "print(\"Columnas en df_excel:\", df_excel.columns.tolist())\n",
    "\n",
    "# --- 4. Renombrar las columnas de df_excel (ajustamos si es necesario) ---\n",
    "df_excel.rename(columns={\"Entidad\": \"Estado\", \"NOM_MUN\": \"Municipio\", \"CVE_MUN\": \"Clave_Municipio\"}, inplace=True)\n",
    "\n",
    "# --- 5. Verificar si las columnas se renombraron correctamente ---\n",
    "print(\"Columnas renombradas en df_excel:\", df_excel.columns.tolist())\n",
    "\n",
    "# --- 6. Formatear las columnas de clave ---\n",
    "df_excel[\"Estado\"] = df_excel[\"Estado\"].str.zfill(2)  # Rellenar con ceros en el caso de que la entidad sea de un solo dígito\n",
    "df_excel[\"Clave_Municipio\"] = df_excel[\"Estado\"] + df_excel[\"Clave_Municipio\"].str.zfill(3)  # Crear la clave del municipio\n",
    "\n",
    "# --- 7. Unir los DataFrames ---\n",
    "df_merged = pd.merge(df_json, df_excel, on=[\"Estado\", \"Municipio\"], how=\"left\")\n",
    "\n",
    "# --- 8. Seleccionar las columnas finales ---\n",
    "df_final = df_merged[[\"Estado\", \"Municipio\", \"Clave_Municipio\"]]\n",
    "\n",
    "# --- 9. Exportar a Excel ---\n",
    "output_path = \"municipios_claves_formato_correcto.xlsx\"\n",
    "df_final.to_excel(output_path, index=False)\n",
    "\n",
    "print(f\"Archivo generado: {output_path}\")\n"
   ]
  },
  {
   "cell_type": "code",
   "execution_count": null,
   "id": "3c377c7b-249c-4d07-8fb8-b21004d1eced",
   "metadata": {},
   "outputs": [],
   "source": []
  }
 ],
 "metadata": {
  "kernelspec": {
   "display_name": "Python [conda env:base] *",
   "language": "python",
   "name": "conda-base-py"
  },
  "language_info": {
   "codemirror_mode": {
    "name": "ipython",
    "version": 3
   },
   "file_extension": ".py",
   "mimetype": "text/x-python",
   "name": "python",
   "nbconvert_exporter": "python",
   "pygments_lexer": "ipython3",
   "version": "3.12.7"
  }
 },
 "nbformat": 4,
 "nbformat_minor": 5
}
